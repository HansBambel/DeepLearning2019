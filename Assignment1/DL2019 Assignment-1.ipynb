{
 "cells": [
  {
   "cell_type": "markdown",
   "metadata": {},
   "source": [
    "\n",
    "#    Deep Learning Course 2019\n",
    "######  Lecturer: Assistant prof. Siamak Mehrkanoon\n",
    "####  =====================================================================================================\n",
    "\n",
    "## Assignment-1:\n",
    "\n",
    "### Download the Iris data and explore it, (visualize it, how many classes, instances, features, etc)\n",
    "### Select feature number 0 and 2 and the first 100 samples and do the following analysis: \n",
    "\n",
    "### 1) Implement the logistic regression model that discussed in the class (with and without regularization). Use Gradient descent algorithm for updating the parameters. Plot the results.\n",
    "\n",
    "### 2) Explore the influence of learning rate on the convergence of the model. Tune the learning rate.\n",
    "\n",
    "### 3) Repeat steps 1-4 for different randomly selected features (e.g. 1 and 3 or 2 and 3) and compare the results.\n",
    "\n",
    "### 4) Give the option to the users to select whatever combination of features they want and your code will do the rest.\n",
    "\n",
    "### 5)  Try your model on Monk2 dataset and report the results, (test accuracy, training accuracy, optimal learning rate, loss value). Use the last 20% of the data as test.\n",
    "\n"
   ]
  },
  {
   "cell_type": "code",
   "execution_count": 86,
   "metadata": {},
   "outputs": [
    {
     "name": "stderr",
     "output_type": "stream",
     "text": [
      "/usr/local/lib/python3.6/dist-packages/ipykernel_launcher.py:12: SettingWithCopyWarning: \n",
      "A value is trying to be set on a copy of a slice from a DataFrame\n",
      "\n",
      "See the caveats in the documentation: http://pandas.pydata.org/pandas-docs/stable/indexing.html#indexing-view-versus-copy\n",
      "  if sys.path[0] == '':\n",
      "/usr/local/lib/python3.6/dist-packages/ipykernel_launcher.py:13: SettingWithCopyWarning: \n",
      "A value is trying to be set on a copy of a slice from a DataFrame\n",
      "\n",
      "See the caveats in the documentation: http://pandas.pydata.org/pandas-docs/stable/indexing.html#indexing-view-versus-copy\n",
      "  del sys.path[0]\n"
     ]
    }
   ],
   "source": [
    "import pandas as pd\n",
    "import numpy as np\n",
    "import matplotlib.pyplot as plt\n",
    "from sklearn import preprocessing\n",
    "df = pd.read_csv('https://archive.ics.uci.edu/ml/machine-learning-databases/iris/iris.data', header=None)\n",
    "df.head()\n",
    "df = df[:100]\n",
    "classes = df[4].unique()\n",
    "\n",
    "# Normalize the date\n",
    "samples = df.copy()\n",
    "samples[4][samples[4] == classes[0]] = 0\n",
    "samples[4][samples[4] == classes[1]] = 1\n",
    "samples = preprocessing.MinMaxScaler().fit_transform(samples)\n",
    "#samples = preprocessing.scale(samples)\n",
    "#forwardPass(df[0])\n",
    "#print(samples)"
   ]
  },
  {
   "cell_type": "markdown",
   "metadata": {},
   "source": [
    "Looking at the dataset and having a look at how many classes and min max of each features. Have a look whether there are missing values. If so, how do I fill them up? How many samples do we have?"
   ]
  },
  {
   "cell_type": "code",
   "execution_count": 87,
   "metadata": {},
   "outputs": [
    {
     "name": "stdout",
     "output_type": "stream",
     "text": [
      "Number of samples: 100\n",
      "Classes: ['Iris-setosa' 'Iris-versicolor']\n",
      "First Feature  min: 4.3 max: 7.0 mean: 5.47 median: 5.4 Std: 0.64\n",
      "Second Feature min: 2.0 max: 4.4 mean: 3.09 median: 3.05 Std: 0.47\n",
      "Third Feature  min: 1.0 max: 5.1 mean: 2.86 median: 2.45 Std: 1.44\n",
      "Fourth Feature min: 0.1 max: 1.8 mean: 0.78 median: 0.8 Std: 0.56\n"
     ]
    }
   ],
   "source": [
    "print(f'Number of samples: {len(df)}')\n",
    "print(f'Classes: {classes}')\n",
    "print(f'First Feature  min: {np.min(df[0])} max: {np.max(df[0])} mean: {np.mean(df[0]):.2f} median: {np.median(df[0])} Std: {np.std(df[0]):.2f}')\n",
    "print(f'Second Feature min: {np.min(df[1])} max: {np.max(df[1])} mean: {np.mean(df[1]):.2f} median: {np.median(df[1])} Std: {np.std(df[1]):.2f}')\n",
    "print(f'Third Feature  min: {np.min(df[2])} max: {np.max(df[2])} mean: {np.mean(df[2]):.2f} median: {np.median(df[2])} Std: {np.std(df[2]):.2f}')\n",
    "print(f'Fourth Feature min: {np.min(df[3])} max: {np.max(df[3])} mean: {np.mean(df[3]):.2f} median: {np.median(df[3])} Std: {np.std(df[3]):.2f}')\n",
    " "
   ]
  },
  {
   "cell_type": "code",
   "execution_count": 88,
   "metadata": {
    "scrolled": true
   },
   "outputs": [
    {
     "data": {
      "image/png": "[encoded data removed]",
      "text/plain": [
       "<Figure size 720x432 with 4 Axes>"
      ]
     },
     "metadata": {},
     "output_type": "display_data"
    }
   ],
   "source": [
    "fig = plt.figure(figsize=(10,6))\n",
    "\n",
    "plt.subplot(221)\n",
    "plt.hist(df[0])\n",
    "plt.title('Histogram of First Feature')\n",
    "plt.subplot(222)\n",
    "plt.hist(df[1])\n",
    "plt.title('Histogram of Second Feature')\n",
    "plt.subplot(223)\n",
    "plt.hist(df[2])\n",
    "plt.title('Histogram of Third Feature')\n",
    "plt.subplot(224)\n",
    "plt.hist(df[3])\n",
    "plt.title('Histogram of Fourth Feature')\n",
    "plt.show()"
   ]
  },
  {
   "cell_type": "code",
   "execution_count": 89,
   "metadata": {},
   "outputs": [
    {
     "data": {
      "image/png": "[encoded data removed]",
      "text/plain": [
       "<Figure size 720x432 with 1 Axes>"
      ]
     },
     "metadata": {},
     "output_type": "display_data"
    }
   ],
   "source": [
    "plt.figure(figsize=(10,6))\n",
    "for i, c in enumerate(classes):\n",
    "    #plt.subplot(1,3,i+1)\n",
    "    plt.title(c)\n",
    "    plt.scatter(df[df[4] == c][0], df[df[4] == c][2], label=c)\n",
    "    plt.xlabel('Feature 0')\n",
    "    plt.ylabel('Feature 2')\n",
    "    plt.legend()\n",
    "\n",
    "plt.show()"
   ]
  },
  {
   "cell_type": "markdown",
   "metadata": {},
   "source": [
    "The neural network consists of 2 input neurons (since we have 2 features as input) and one neuron in the hidden layer connected to the output layer with 1 neuron."
   ]
  },
  {
   "cell_type": "code",
   "execution_count": 90,
   "metadata": {},
   "outputs": [],
   "source": [
    "def sigmoid(x):\n",
    "    return 1 / (1 + np.exp(-x))\n",
    "\n",
    "\n",
    "def derivedSigmoid(x):\n",
    "    return sigmoid(x)*(1-sigmoid(x))"
   ]
  },
  {
   "cell_type": "code",
   "execution_count": 105,
   "metadata": {},
   "outputs": [],
   "source": [
    "weights1 = np.random.uniform(-0.5, 0.5, size=(3, 1))\n",
    "weights2 = np.random.uniform(-0.5, 0.5, size=(2, 1))\n",
    "\n",
    "def forwardPass(x):\n",
    "    if len(x.shape) == 1:\n",
    "        x = x.reshape(-1, 1)\n",
    "    assert x.shape[-1] == 1\n",
    "    inp = np.append(1, x).T\n",
    "    hiddenIn = sigmoid(np.dot(inp, weights1))\n",
    "    hiddenOut = np.append(1, hiddenIn).T\n",
    "    output = sigmoid(np.dot(hiddenOut, weights2))\n",
    "    return output\n",
    "\n",
    "def costFunction(pred, target):\n",
    "    "
   ]
  },
  {
   "cell_type": "code",
   "execution_count": 106,
   "metadata": {},
   "outputs": [
    {
     "name": "stdout",
     "output_type": "stream",
     "text": [
      "(100, 3)\n",
      "[0.47246327]\n"
     ]
    }
   ],
   "source": [
    "data = np.delete(samples, [1, 3], axis=1)\n",
    "print(data.shape)\n",
    "print(forwardPass(data[0, :2]))"
   ]
  },
  {
   "cell_type": "markdown",
   "metadata": {},
   "source": [
    "## Part 2"
   ]
  },
  {
   "cell_type": "code",
   "execution_count": 26,
   "metadata": {},
   "outputs": [
    {
     "name": "stdout",
     "output_type": "stream",
     "text": [
      "[[1 1 1 ... 1 1 1]\n",
      " [1 1 1 ... 1 2 1]\n",
      " [1 1 1 ... 2 2 1]\n",
      " ...\n",
      " [3 2 2 ... 4 1 0]\n",
      " [3 2 2 ... 4 1 0]\n",
      " [3 3 1 ... 4 2 0]]\n"
     ]
    }
   ],
   "source": [
    "import scipy.io as sio\n",
    "monk2 = sio.loadmat('monk2.mat')['monk2']\n",
    "print(monk2)"
   ]
  },
  {
   "cell_type": "code",
   "execution_count": null,
   "metadata": {},
   "outputs": [],
   "source": []
  }
 ],
 "metadata": {
  "kernelspec": {
   "display_name": "Python 3",
   "language": "python",
   "name": "python3"
  },
  "language_info": {
   "codemirror_mode": {
    "name": "ipython",
    "version": 3
   },
   "file_extension": ".py",
   "mimetype": "text/x-python",
   "name": "python",
   "nbconvert_exporter": "python",
   "pygments_lexer": "ipython3",
   "version": "3.6.7"
  }
 },
 "nbformat": 4,
 "nbformat_minor": 2
}
